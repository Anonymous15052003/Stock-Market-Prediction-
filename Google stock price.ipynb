{
 "cells": [
  {
   "cell_type": "code",
   "execution_count": 6,
   "metadata": {},
   "outputs": [],
   "source": [
    "import numpy as np \n",
    "import pandas as pd \n",
    "import matplotlib.pyplot as plt \n",
    "from sklearn.preprocessing import MinMaxScaler\n",
    "from keras.models import Sequential\n",
    "from keras.layers import Dense,LSTM,Dropout"
   ]
  },
  {
   "cell_type": "code",
   "execution_count": 7,
   "metadata": {},
   "outputs": [
    {
     "data": {
      "text/html": [
       "<div>\n",
       "<style scoped>\n",
       "    .dataframe tbody tr th:only-of-type {\n",
       "        vertical-align: middle;\n",
       "    }\n",
       "\n",
       "    .dataframe tbody tr th {\n",
       "        vertical-align: top;\n",
       "    }\n",
       "\n",
       "    .dataframe thead th {\n",
       "        text-align: right;\n",
       "    }\n",
       "</style>\n",
       "<table border=\"1\" class=\"dataframe\">\n",
       "  <thead>\n",
       "    <tr style=\"text-align: right;\">\n",
       "      <th></th>\n",
       "      <th>Date</th>\n",
       "      <th>Open</th>\n",
       "      <th>High</th>\n",
       "      <th>Low</th>\n",
       "      <th>Close</th>\n",
       "      <th>Volume</th>\n",
       "    </tr>\n",
       "  </thead>\n",
       "  <tbody>\n",
       "    <tr>\n",
       "      <th>0</th>\n",
       "      <td>1/3/2012</td>\n",
       "      <td>325.25</td>\n",
       "      <td>332.83</td>\n",
       "      <td>324.97</td>\n",
       "      <td>663.59</td>\n",
       "      <td>7,380,500</td>\n",
       "    </tr>\n",
       "    <tr>\n",
       "      <th>1</th>\n",
       "      <td>1/4/2012</td>\n",
       "      <td>331.27</td>\n",
       "      <td>333.87</td>\n",
       "      <td>329.08</td>\n",
       "      <td>666.45</td>\n",
       "      <td>5,749,400</td>\n",
       "    </tr>\n",
       "    <tr>\n",
       "      <th>2</th>\n",
       "      <td>1/5/2012</td>\n",
       "      <td>329.83</td>\n",
       "      <td>330.75</td>\n",
       "      <td>326.89</td>\n",
       "      <td>657.21</td>\n",
       "      <td>6,590,300</td>\n",
       "    </tr>\n",
       "    <tr>\n",
       "      <th>3</th>\n",
       "      <td>1/6/2012</td>\n",
       "      <td>328.34</td>\n",
       "      <td>328.77</td>\n",
       "      <td>323.68</td>\n",
       "      <td>648.24</td>\n",
       "      <td>5,405,900</td>\n",
       "    </tr>\n",
       "    <tr>\n",
       "      <th>4</th>\n",
       "      <td>1/9/2012</td>\n",
       "      <td>322.04</td>\n",
       "      <td>322.29</td>\n",
       "      <td>309.46</td>\n",
       "      <td>620.76</td>\n",
       "      <td>11,688,800</td>\n",
       "    </tr>\n",
       "  </tbody>\n",
       "</table>\n",
       "</div>"
      ],
      "text/plain": [
       "       Date    Open    High     Low   Close      Volume\n",
       "0  1/3/2012  325.25  332.83  324.97  663.59   7,380,500\n",
       "1  1/4/2012  331.27  333.87  329.08  666.45   5,749,400\n",
       "2  1/5/2012  329.83  330.75  326.89  657.21   6,590,300\n",
       "3  1/6/2012  328.34  328.77  323.68  648.24   5,405,900\n",
       "4  1/9/2012  322.04  322.29  309.46  620.76  11,688,800"
      ]
     },
     "execution_count": 7,
     "metadata": {},
     "output_type": "execute_result"
    }
   ],
   "source": [
    "data = pd.read_csv('D:/STUDY DRIVE/PROJECTS/Stock Market Prediction/Google_train_data.csv')\n",
    "data.head()"
   ]
  },
  {
   "cell_type": "code",
   "execution_count": 8,
   "metadata": {},
   "outputs": [
    {
     "name": "stdout",
     "output_type": "stream",
     "text": [
      "<class 'pandas.core.frame.DataFrame'>\n",
      "RangeIndex: 1258 entries, 0 to 1257\n",
      "Data columns (total 6 columns):\n",
      " #   Column  Non-Null Count  Dtype  \n",
      "---  ------  --------------  -----  \n",
      " 0   Date    1258 non-null   object \n",
      " 1   Open    1258 non-null   float64\n",
      " 2   High    1258 non-null   float64\n",
      " 3   Low     1258 non-null   float64\n",
      " 4   Close   1258 non-null   object \n",
      " 5   Volume  1258 non-null   object \n",
      "dtypes: float64(3), object(3)\n",
      "memory usage: 59.1+ KB\n"
     ]
    }
   ],
   "source": [
    "data.info()"
   ]
  },
  {
   "cell_type": "code",
   "execution_count": 9,
   "metadata": {},
   "outputs": [],
   "source": [
    "# Convert the close object to numeric type using panda library\n",
    "data[\"Close\"]=pd.to_numeric(data.Close,errors='coerce')\n",
    "\n",
    "# Data pre-processing where null/missing values will get dropped\n",
    "data = data.dropna()\n",
    "\n",
    "# Using iloc(Index Location) to consider only closing column as my training data\n",
    "trainData = data.iloc[:,4:5].values"
   ]
  },
  {
   "cell_type": "code",
   "execution_count": 10,
   "metadata": {},
   "outputs": [
    {
     "name": "stdout",
     "output_type": "stream",
     "text": [
      "<class 'pandas.core.frame.DataFrame'>\n",
      "Int64Index: 1149 entries, 0 to 1257\n",
      "Data columns (total 6 columns):\n",
      " #   Column  Non-Null Count  Dtype  \n",
      "---  ------  --------------  -----  \n",
      " 0   Date    1149 non-null   object \n",
      " 1   Open    1149 non-null   float64\n",
      " 2   High    1149 non-null   float64\n",
      " 3   Low     1149 non-null   float64\n",
      " 4   Close   1149 non-null   float64\n",
      " 5   Volume  1149 non-null   object \n",
      "dtypes: float64(4), object(2)\n",
      "memory usage: 62.8+ KB\n"
     ]
    }
   ],
   "source": [
    "data.info()"
   ]
  },
  {
   "cell_type": "code",
   "execution_count": 11,
   "metadata": {},
   "outputs": [
    {
     "data": {
      "text/plain": [
       "(1149, 1)"
      ]
     },
     "execution_count": 11,
     "metadata": {},
     "output_type": "execute_result"
    }
   ],
   "source": [
    "# Using MinMaxScaler() for rescaling our data between 0's and 1's for better performances\n",
    "sc = MinMaxScaler(feature_range=(0,1))\n",
    "\n",
    "# fit_transform() to transform the values\n",
    "trainData = sc.fit_transform(trainData)\n",
    "\n",
    "# Printing the shape of training data\n",
    "trainData.shape"
   ]
  },
  {
   "cell_type": "code",
   "execution_count": 12,
   "metadata": {},
   "outputs": [],
   "source": [
    "# Prepare our data for training \n",
    "# Prepare input sequences to 60 times steps of extreme data alongside the respective y train labels \n",
    "# Adding another axis for batch_size since input for lstm network is 3D Tensor so it is having sequence length, time steps and batch_size.\n",
    "\n",
    "X_train = []\n",
    "y_train = []\n",
    "\n",
    "for i in range (60,1149): #60 : timestep // 1149 : length of the data\n",
    "    X_train.append(trainData[i-60:i,0]) \n",
    "    y_train.append(trainData[i,0])\n",
    "\n",
    "X_train,y_train = np.array(X_train),np.array(y_train)"
   ]
  },
  {
   "cell_type": "code",
   "execution_count": 13,
   "metadata": {},
   "outputs": [
    {
     "data": {
      "text/plain": [
       "(1089, 60, 1)"
      ]
     },
     "execution_count": 13,
     "metadata": {},
     "output_type": "execute_result"
    }
   ],
   "source": [
    "X_train = np.reshape(X_train,(X_train.shape[0],X_train.shape[1],1)) #adding the batch_size axis\n",
    "X_train.shape"
   ]
  },
  {
   "cell_type": "code",
   "execution_count": 16,
   "metadata": {},
   "outputs": [],
   "source": [
    "# Build a model containing the 4 layer lstm model network all followed by a dropout layer \n",
    "# On the top, we will have final dense layer \n",
    "# All of these, we will use adam optimiser and mean_squared_error as a loss function \n",
    "\n",
    "model = Sequential()\n",
    "\n",
    "model.add(LSTM(units=100, return_sequences = True, input_shape =(X_train.shape[1],1)))\n",
    "model.add(Dropout(0.2))\n",
    "\n",
    "model.add(LSTM(units=100, return_sequences = True))\n",
    "model.add(Dropout(0.2))\n",
    "\n",
    "model.add(LSTM(units=100, return_sequences = True))\n",
    "model.add(Dropout(0.2))\n",
    "\n",
    "model.add(LSTM(units=100, return_sequences = False))\n",
    "model.add(Dropout(0.2))\n",
    "\n",
    "model.add(Dense(units =1))\n",
    "model.compile(optimizer='adam',loss=\"mean_squared_error\")"
   ]
  },
  {
   "cell_type": "code",
   "execution_count": 17,
   "metadata": {},
   "outputs": [
    {
     "name": "stdout",
     "output_type": "stream",
     "text": [
      "Epoch 1/20\n",
      "35/35 - 19s - loss: 0.0283 - 19s/epoch - 548ms/step\n",
      "Epoch 2/20\n",
      "35/35 - 7s - loss: 0.0106 - 7s/epoch - 210ms/step\n",
      "Epoch 3/20\n",
      "35/35 - 8s - loss: 0.0131 - 8s/epoch - 222ms/step\n",
      "Epoch 4/20\n",
      "35/35 - 7s - loss: 0.0088 - 7s/epoch - 201ms/step\n",
      "Epoch 5/20\n",
      "35/35 - 7s - loss: 0.0069 - 7s/epoch - 194ms/step\n",
      "Epoch 6/20\n",
      "35/35 - 7s - loss: 0.0105 - 7s/epoch - 196ms/step\n",
      "Epoch 7/20\n",
      "35/35 - 7s - loss: 0.0073 - 7s/epoch - 196ms/step\n",
      "Epoch 8/20\n",
      "35/35 - 7s - loss: 0.0066 - 7s/epoch - 187ms/step\n",
      "Epoch 9/20\n",
      "35/35 - 7s - loss: 0.0069 - 7s/epoch - 195ms/step\n",
      "Epoch 10/20\n",
      "35/35 - 6s - loss: 0.0066 - 6s/epoch - 185ms/step\n",
      "Epoch 11/20\n",
      "35/35 - 6s - loss: 0.0069 - 6s/epoch - 182ms/step\n",
      "Epoch 12/20\n",
      "35/35 - 7s - loss: 0.0061 - 7s/epoch - 205ms/step\n",
      "Epoch 13/20\n",
      "35/35 - 7s - loss: 0.0064 - 7s/epoch - 205ms/step\n",
      "Epoch 14/20\n",
      "35/35 - 7s - loss: 0.0068 - 7s/epoch - 195ms/step\n",
      "Epoch 15/20\n",
      "35/35 - 8s - loss: 0.0052 - 8s/epoch - 230ms/step\n",
      "Epoch 16/20\n",
      "35/35 - 7s - loss: 0.0050 - 7s/epoch - 198ms/step\n",
      "Epoch 17/20\n",
      "35/35 - 9s - loss: 0.0043 - 9s/epoch - 252ms/step\n",
      "Epoch 18/20\n",
      "35/35 - 9s - loss: 0.0050 - 9s/epoch - 249ms/step\n",
      "Epoch 19/20\n",
      "35/35 - 10s - loss: 0.0045 - 10s/epoch - 291ms/step\n",
      "Epoch 20/20\n",
      "35/35 - 10s - loss: 0.0046 - 10s/epoch - 291ms/step\n"
     ]
    }
   ],
   "source": [
    "#Train the data using 20 Epoch and batch_size of 32 using model.fit function and passing X train and Y train data\n",
    "\n",
    "hist = model.fit(X_train, y_train, epochs = 20, batch_size = 32, verbose=2)"
   ]
  },
  {
   "cell_type": "code",
   "execution_count": 18,
   "metadata": {},
   "outputs": [
    {
     "data": {
      "image/png": "[encoded data removed]",
      "text/plain": [
       "<Figure size 640x480 with 1 Axes>"
      ]
     },
     "metadata": {},
     "output_type": "display_data"
    }
   ],
   "source": [
    "# Visualize the loss occured during the training process for each epoch using matplotlib library and plot function \n",
    "\n",
    "plt.plot(hist.history['loss'])\n",
    "plt.title('Training model loss')\n",
    "plt.ylabel('loss')\n",
    "plt.xlabel('epoch')\n",
    "plt.legend(['train'], loc='upper left')\n",
    "plt.show()"
   ]
  },
  {
   "cell_type": "code",
   "execution_count": 20,
   "metadata": {},
   "outputs": [
    {
     "data": {
      "text/plain": [
       "(192, 60, 1)"
      ]
     },
     "execution_count": 20,
     "metadata": {},
     "output_type": "execute_result"
    }
   ],
   "source": [
    "# Test the dataset with the new dataset\n",
    "\n",
    "testData = pd.read_csv('D:/STUDY DRIVE/PROJECTS/Stock Market Prediction/Google_test_data.csv')\n",
    "testData[\"Close\"]=pd.to_numeric(testData.Close,errors='coerce')\n",
    "testData = testData.dropna()\n",
    "testData = testData.iloc[:,4:5]\n",
    "y_test = testData.iloc[60:,0:].values \n",
    "\n",
    "# input array for the model\n",
    "inputClosing = testData.iloc[:,0:].values \n",
    "inputClosing_scaled = sc.transform(inputClosing)\n",
    "inputClosing_scaled.shape\n",
    "X_test = []\n",
    "length = len(testData)\n",
    "timestep = 60\n",
    "for i in range(timestep,length):  \n",
    "    X_test.append(inputClosing_scaled[i-timestep:i,0])\n",
    "X_test = np.array(X_test)\n",
    "X_test = np.reshape(X_test,(X_test.shape[0],X_test.shape[1],1))\n",
    "X_test.shape"
   ]
  },
  {
   "cell_type": "code",
   "execution_count": 21,
   "metadata": {},
   "outputs": [
    {
     "name": "stdout",
     "output_type": "stream",
     "text": [
      "6/6 [==============================] - 1s 31ms/step\n"
     ]
    },
    {
     "data": {
      "text/plain": [
       "array([[1.200658 ],\n",
       "       [1.204029 ],\n",
       "       [1.2159718],\n",
       "       [1.2338947],\n",
       "       [1.2490155],\n",
       "       [1.2507519],\n",
       "       [1.238725 ],\n",
       "       [1.2203962],\n",
       "       [1.2072803],\n",
       "       [1.2025028],\n",
       "       [1.1951948],\n",
       "       [1.1838591],\n",
       "       [1.1734214],\n",
       "       [1.1637203],\n",
       "       [1.1610535],\n",
       "       [1.1652051],\n",
       "       [1.1830784],\n",
       "       [1.2120616],\n",
       "       [1.2459992],\n",
       "       [1.2802225],\n",
       "       [1.2961136],\n",
       "       [1.2949431],\n",
       "       [1.2753717],\n",
       "       [1.2452413],\n",
       "       [1.216454 ],\n",
       "       [1.1984109],\n",
       "       [1.1924403],\n",
       "       [1.1911148],\n",
       "       [1.1844184],\n",
       "       [1.1740581],\n",
       "       [1.1621763],\n",
       "       [1.1484252],\n",
       "       [1.1280242],\n",
       "       [1.102581 ],\n",
       "       [1.0909277],\n",
       "       [1.0989782],\n",
       "       [1.1206619],\n",
       "       [1.1467792],\n",
       "       [1.1722881],\n",
       "       [1.1865698],\n",
       "       [1.1999838],\n",
       "       [1.2153591],\n",
       "       [1.2329935],\n",
       "       [1.2496804],\n",
       "       [1.2613907],\n",
       "       [1.2636229],\n",
       "       [1.2543174],\n",
       "       [1.2447399],\n",
       "       [1.2410002],\n",
       "       [1.2456408],\n",
       "       [1.2581552],\n",
       "       [1.2677983],\n",
       "       [1.271506 ],\n",
       "       [1.2694752],\n",
       "       [1.2679726],\n",
       "       [1.2643144],\n",
       "       [1.256059 ],\n",
       "       [1.2513212],\n",
       "       [1.2591345],\n",
       "       [1.2766813],\n",
       "       [1.3029503],\n",
       "       [1.3351498],\n",
       "       [1.359202 ],\n",
       "       [1.3657107],\n",
       "       [1.3555013],\n",
       "       [1.3354255],\n",
       "       [1.3195091],\n",
       "       [1.3125292],\n",
       "       [1.3140185],\n",
       "       [1.3187191],\n",
       "       [1.3243856],\n",
       "       [1.3282976],\n",
       "       [1.3256059],\n",
       "       [1.3203954],\n",
       "       [1.3154334],\n",
       "       [1.3135407],\n",
       "       [1.3151156],\n",
       "       [1.319908 ],\n",
       "       [1.3314649],\n",
       "       [1.3493494],\n",
       "       [1.372805 ],\n",
       "       [1.3959532],\n",
       "       [1.4103241],\n",
       "       [1.4138345],\n",
       "       [1.4173789],\n",
       "       [1.4285717],\n",
       "       [1.4457408],\n",
       "       [1.4617287],\n",
       "       [1.4719496],\n",
       "       [1.4753615],\n",
       "       [1.4771477],\n",
       "       [1.4857179],\n",
       "       [1.5021836],\n",
       "       [1.5148453],\n",
       "       [1.5158978],\n",
       "       [1.5043429],\n",
       "       [1.4824625],\n",
       "       [1.4558507],\n",
       "       [1.4322895],\n",
       "       [1.4216388],\n",
       "       [1.425786 ],\n",
       "       [1.4414058],\n",
       "       [1.4641925],\n",
       "       [1.4856852],\n",
       "       [1.5001982],\n",
       "       [1.5048732],\n",
       "       [1.5028995],\n",
       "       [1.4983677],\n",
       "       [1.4973185],\n",
       "       [1.5012532],\n",
       "       [1.5098168],\n",
       "       [1.5225307],\n",
       "       [1.5361129],\n",
       "       [1.5507351],\n",
       "       [1.5683751],\n",
       "       [1.5838139],\n",
       "       [1.5959033],\n",
       "       [1.6060141],\n",
       "       [1.617874 ],\n",
       "       [1.6026078],\n",
       "       [1.5569788],\n",
       "       [1.494993 ],\n",
       "       [1.4404963],\n",
       "       [1.4062289],\n",
       "       [1.389788 ],\n",
       "       [1.3846873],\n",
       "       [1.3852774],\n",
       "       [1.389086 ],\n",
       "       [1.3862259],\n",
       "       [1.3735529],\n",
       "       [1.3665857],\n",
       "       [1.373866 ],\n",
       "       [1.3885887],\n",
       "       [1.3980786],\n",
       "       [1.4015236],\n",
       "       [1.4010918],\n",
       "       [1.3962543],\n",
       "       [1.3868986],\n",
       "       [1.3756624],\n",
       "       [1.360862 ],\n",
       "       [1.3451115],\n",
       "       [1.3279256],\n",
       "       [1.2949157],\n",
       "       [1.2541353],\n",
       "       [1.2133186],\n",
       "       [1.1803969],\n",
       "       [1.164586 ],\n",
       "       [1.1694082],\n",
       "       [1.189286 ],\n",
       "       [1.2152599],\n",
       "       [1.2425482],\n",
       "       [1.26582  ],\n",
       "       [1.2838509],\n",
       "       [1.2986954],\n",
       "       [1.3101183],\n",
       "       [1.319745 ],\n",
       "       [1.3299105],\n",
       "       [1.3382736],\n",
       "       [1.3360993],\n",
       "       [1.3219914],\n",
       "       [1.2998798],\n",
       "       [1.2772298],\n",
       "       [1.2632931],\n",
       "       [1.2632573],\n",
       "       [1.2770303],\n",
       "       [1.3011183],\n",
       "       [1.3246775],\n",
       "       [1.3434988],\n",
       "       [1.359648 ],\n",
       "       [1.3739308],\n",
       "       [1.3855648],\n",
       "       [1.3948507],\n",
       "       [1.4021131],\n",
       "       [1.405147 ],\n",
       "       [1.4038998],\n",
       "       [1.3955561],\n",
       "       [1.3842391],\n",
       "       [1.375604 ],\n",
       "       [1.3694595],\n",
       "       [1.3640257],\n",
       "       [1.3890094],\n",
       "       [1.439589 ],\n",
       "       [1.4951435],\n",
       "       [1.537506 ],\n",
       "       [1.5579847],\n",
       "       [1.5547733],\n",
       "       [1.5243812],\n",
       "       [1.4828691],\n",
       "       [1.4447156],\n",
       "       [1.4256967],\n",
       "       [1.4222559],\n",
       "       [1.4247603]], dtype=float32)"
      ]
     },
     "execution_count": 21,
     "metadata": {},
     "output_type": "execute_result"
    }
   ],
   "source": [
    "# Predicting the model output using the model.predict() and passing the X_test data \n",
    "y_pred = model.predict(X_test)\n",
    "y_pred"
   ]
  },
  {
   "cell_type": "code",
   "execution_count": 23,
   "metadata": {},
   "outputs": [],
   "source": [
    "# Plot the data between actual and predicted stock prices by using inverse_transform() over y_pred data\n",
    "predicted_price = sc.inverse_transform(y_pred)"
   ]
  },
  {
   "cell_type": "code",
   "execution_count": 24,
   "metadata": {},
   "outputs": [
    {
     "data": {
      "image/png": "[encoded data removed]",
      "text/plain": [
       "<Figure size 640x480 with 1 Axes>"
      ]
     },
     "metadata": {},
     "output_type": "display_data"
    }
   ],
   "source": [
    "plt.plot(y_test, color = 'red', label = 'Actual Stock Price')\n",
    "plt.plot(predicted_price, color = 'green', label = 'Predicted Stock Price')\n",
    "plt.title('Google stock price prediction')\n",
    "plt.xlabel('Time')\n",
    "plt.ylabel('Stock Price')\n",
    "plt.legend()\n",
    "plt.show()"
   ]
  },
  {
   "cell_type": "code",
   "execution_count": null,
   "metadata": {},
   "outputs": [],
   "source": []
  }
 ],
 "metadata": {
  "kernelspec": {
   "display_name": "Python 3 (ipykernel)",
   "language": "python",
   "name": "python3"
  },
  "language_info": {
   "codemirror_mode": {
    "name": "ipython",
    "version": 3
   },
   "file_extension": ".py",
   "mimetype": "text/x-python",
   "name": "python",
   "nbconvert_exporter": "python",
   "pygments_lexer": "ipython3",
   "version": "3.11.2"
  }
 },
 "nbformat": 4,
 "nbformat_minor": 4
}
